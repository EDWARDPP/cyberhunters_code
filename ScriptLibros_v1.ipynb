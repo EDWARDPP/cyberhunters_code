{
  "nbformat": 4,
  "nbformat_minor": 0,
  "metadata": {
    "colab": {
      "provenance": [],
      "include_colab_link": true
    },
    "kernelspec": {
      "name": "python3",
      "display_name": "Python 3"
    },
    "language_info": {
      "name": "python"
    }
  },
  "cells": [
    {
      "cell_type": "markdown",
      "metadata": {
        "id": "view-in-github",
        "colab_type": "text"
      },
      "source": [
        "<a href=\"https://colab.research.google.com/github/hugoheldens/cyberhunters/blob/main/ScriptLibros_v1.ipynb\" target=\"_parent\"><img src=\"https://colab.research.google.com/assets/colab-badge.svg\" alt=\"Open In Colab\"/></a>"
      ]
    },
    {
      "cell_type": "code",
      "source": [
        "import requests\n",
        "from bs4 import BeautifulSoup\n",
        "\n",
        "import os\n",
        "\n",
        "\n",
        "\n",
        "def libros_sitio_web(url):\n",
        "    try:\n",
        "        response = requests.get(url)\n",
        "        response.raise_for_status()  # Lanzar una excepción si ocurre un error HTTP\n",
        "        html = response.text\n",
        "    except requests.exceptions.RequestException as e:\n",
        "        print(\"Error en la solicitud:\", e)\n",
        "        return\n",
        "\n",
        "    soup = BeautifulSoup(html, 'html.parser')\n",
        "\n",
        "    directorio_destino = 'libro_descargado'\n",
        "    try:\n",
        "        if not os.path.exists(directorio_destino):\n",
        "            os.makedirs(directorio_destino)\n",
        "    except OSError as e:\n",
        "        print(\"Error al crear el directorio:\", e)\n",
        "        return\n",
        "\n",
        "\n",
        "\n",
        "    print(\"Libro descargado!\")\n",
        "\n",
        "# URL del sitio web del libro\n",
        "url_sitio_web = input(\"Introduce la URL del sitio web: \")\n",
        "libros_sitio_web(url_sitio_web)\n",
        "\n",
        "# Abre el archivo index.html en un navegador para visualizarlo localmente\n",
        "import webbrowser\n",
        "ruta_index_html = os.path.join('libro_descargado', 'index.html')\n",
        "webbrowser.open(ruta_index_html)\n",
        "\n",
        "\n",
        "\n",
        "#Arreglo que arroja la cadena de la pagina\n",
        "arreglo = []\n",
        "cadenas = [\"LPM\", \"MLA\", \"PAA\", \"PCA\", \"PEA\", \"SDA\", \"TPA\"]\n",
        "\n",
        "for i in range(1, 7):\n",
        "    for cadena in cadenas:\n",
        "        elemento = f'P{i}{cadena}'\n",
        "        enlace = f'https://www.conaliteg.sep.gob.mx/2023/c/{elemento}.htm'\n",
        "        arreglo.append(enlace)\n",
        "\n",
        "for enlace in arreglo:\n",
        "    print(enlace)\n"
      ],
      "metadata": {
        "colab": {
          "base_uri": "https://localhost:8080/"
        },
        "id": "k3W9wUuwK4jf",
        "outputId": "629a121f-91e4-44e9-cffa-bf2e49665708"
      },
      "execution_count": null,
      "outputs": [
        {
          "output_type": "stream",
          "name": "stdout",
          "text": [
            "Introduce la URL del sitio web: s\n",
            "Error en la solicitud: Invalid URL 's': No scheme supplied. Perhaps you meant https://s?\n",
            "https://www.conaliteg.sep.gob.mx/2023/c/P1LPM.htm\n",
            "https://www.conaliteg.sep.gob.mx/2023/c/P1MLA.htm\n",
            "https://www.conaliteg.sep.gob.mx/2023/c/P1PAA.htm\n",
            "https://www.conaliteg.sep.gob.mx/2023/c/P1PCA.htm\n",
            "https://www.conaliteg.sep.gob.mx/2023/c/P1PEA.htm\n",
            "https://www.conaliteg.sep.gob.mx/2023/c/P1SDA.htm\n",
            "https://www.conaliteg.sep.gob.mx/2023/c/P1TPA.htm\n",
            "https://www.conaliteg.sep.gob.mx/2023/c/P2LPM.htm\n",
            "https://www.conaliteg.sep.gob.mx/2023/c/P2MLA.htm\n",
            "https://www.conaliteg.sep.gob.mx/2023/c/P2PAA.htm\n",
            "https://www.conaliteg.sep.gob.mx/2023/c/P2PCA.htm\n",
            "https://www.conaliteg.sep.gob.mx/2023/c/P2PEA.htm\n",
            "https://www.conaliteg.sep.gob.mx/2023/c/P2SDA.htm\n",
            "https://www.conaliteg.sep.gob.mx/2023/c/P2TPA.htm\n",
            "https://www.conaliteg.sep.gob.mx/2023/c/P3LPM.htm\n",
            "https://www.conaliteg.sep.gob.mx/2023/c/P3MLA.htm\n",
            "https://www.conaliteg.sep.gob.mx/2023/c/P3PAA.htm\n",
            "https://www.conaliteg.sep.gob.mx/2023/c/P3PCA.htm\n",
            "https://www.conaliteg.sep.gob.mx/2023/c/P3PEA.htm\n",
            "https://www.conaliteg.sep.gob.mx/2023/c/P3SDA.htm\n",
            "https://www.conaliteg.sep.gob.mx/2023/c/P3TPA.htm\n",
            "https://www.conaliteg.sep.gob.mx/2023/c/P4LPM.htm\n",
            "https://www.conaliteg.sep.gob.mx/2023/c/P4MLA.htm\n",
            "https://www.conaliteg.sep.gob.mx/2023/c/P4PAA.htm\n",
            "https://www.conaliteg.sep.gob.mx/2023/c/P4PCA.htm\n",
            "https://www.conaliteg.sep.gob.mx/2023/c/P4PEA.htm\n",
            "https://www.conaliteg.sep.gob.mx/2023/c/P4SDA.htm\n",
            "https://www.conaliteg.sep.gob.mx/2023/c/P4TPA.htm\n",
            "https://www.conaliteg.sep.gob.mx/2023/c/P5LPM.htm\n",
            "https://www.conaliteg.sep.gob.mx/2023/c/P5MLA.htm\n",
            "https://www.conaliteg.sep.gob.mx/2023/c/P5PAA.htm\n",
            "https://www.conaliteg.sep.gob.mx/2023/c/P5PCA.htm\n",
            "https://www.conaliteg.sep.gob.mx/2023/c/P5PEA.htm\n",
            "https://www.conaliteg.sep.gob.mx/2023/c/P5SDA.htm\n",
            "https://www.conaliteg.sep.gob.mx/2023/c/P5TPA.htm\n",
            "https://www.conaliteg.sep.gob.mx/2023/c/P6LPM.htm\n",
            "https://www.conaliteg.sep.gob.mx/2023/c/P6MLA.htm\n",
            "https://www.conaliteg.sep.gob.mx/2023/c/P6PAA.htm\n",
            "https://www.conaliteg.sep.gob.mx/2023/c/P6PCA.htm\n",
            "https://www.conaliteg.sep.gob.mx/2023/c/P6PEA.htm\n",
            "https://www.conaliteg.sep.gob.mx/2023/c/P6SDA.htm\n",
            "https://www.conaliteg.sep.gob.mx/2023/c/P6TPA.htm\n"
          ]
        }
      ]
    },
    {
      "cell_type": "code",
      "source": [],
      "metadata": {
        "id": "9UUrSY3NHl-k"
      },
      "execution_count": null,
      "outputs": []
    },
    {
      "cell_type": "code",
      "source": [
        "pip install img2pdf"
      ],
      "metadata": {
        "colab": {
          "base_uri": "https://localhost:8080/"
        },
        "id": "yrpgFYa58yH_",
        "outputId": "d58db952-cb5c-43e5-901d-bf90553f832e"
      },
      "execution_count": null,
      "outputs": [
        {
          "output_type": "stream",
          "name": "stdout",
          "text": [
            "Collecting img2pdf\n",
            "  Downloading img2pdf-0.4.4.tar.gz (97 kB)\n",
            "\u001b[?25l     \u001b[90m━━━━━━━━━━━━━━━━━━━━━━━━━━━━━━━━━━━━━━━━\u001b[0m \u001b[32m0.0/97.8 kB\u001b[0m \u001b[31m?\u001b[0m eta \u001b[36m-:--:--\u001b[0m\r\u001b[2K     \u001b[91m━━━━━━━━━━━━━━━━━━━━━━━━━━━━━━━━━━━━━\u001b[0m\u001b[91m╸\u001b[0m\u001b[90m━━\u001b[0m \u001b[32m92.2/97.8 kB\u001b[0m \u001b[31m2.7 MB/s\u001b[0m eta \u001b[36m0:00:01\u001b[0m\r\u001b[2K     \u001b[90m━━━━━━━━━━━━━━━━━━━━━━━━━━━━━━━━━━━━━━━━\u001b[0m \u001b[32m97.8/97.8 kB\u001b[0m \u001b[31m2.2 MB/s\u001b[0m eta \u001b[36m0:00:00\u001b[0m\n",
            "\u001b[?25h  Preparing metadata (setup.py) ... \u001b[?25l\u001b[?25hdone\n",
            "Requirement already satisfied: Pillow in /usr/local/lib/python3.10/dist-packages (from img2pdf) (9.4.0)\n",
            "Collecting pikepdf (from img2pdf)\n",
            "  Downloading pikepdf-8.4.0-cp310-cp310-manylinux_2_17_x86_64.manylinux2014_x86_64.whl (2.3 MB)\n",
            "\u001b[2K     \u001b[90m━━━━━━━━━━━━━━━━━━━━━━━━━━━━━━━━━━━━━━━━\u001b[0m \u001b[32m2.3/2.3 MB\u001b[0m \u001b[31m14.3 MB/s\u001b[0m eta \u001b[36m0:00:00\u001b[0m\n",
            "\u001b[?25hCollecting deprecation (from pikepdf->img2pdf)\n",
            "  Downloading deprecation-2.1.0-py2.py3-none-any.whl (11 kB)\n",
            "Requirement already satisfied: lxml>=4.8 in /usr/local/lib/python3.10/dist-packages (from pikepdf->img2pdf) (4.9.3)\n",
            "Requirement already satisfied: packaging in /usr/local/lib/python3.10/dist-packages (from pikepdf->img2pdf) (23.1)\n",
            "Building wheels for collected packages: img2pdf\n",
            "  Building wheel for img2pdf (setup.py) ... \u001b[?25l\u001b[?25hdone\n",
            "  Created wheel for img2pdf: filename=img2pdf-0.4.4-py3-none-any.whl size=44862 sha256=4689a33479d9b355031b9d49993daf160bbb3d0386adf82068403ca3eb556d5d\n",
            "  Stored in directory: /root/.cache/pip/wheels/0b/85/be/a7faed8033e47e5a653a2502b5494b1d613bcd075c99b8152e\n",
            "Successfully built img2pdf\n",
            "Installing collected packages: deprecation, pikepdf, img2pdf\n",
            "Successfully installed deprecation-2.1.0 img2pdf-0.4.4 pikepdf-8.4.0\n"
          ]
        }
      ]
    }
  ]
}